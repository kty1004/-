{
  "nbformat": 4,
  "nbformat_minor": 0,
  "metadata": {
    "colab": {
      "provenance": [],
      "gpuType": "T4",
      "mount_file_id": "19rnGQyRmGBbI_tRCzUN61z0g4WwdbSwM",
      "authorship_tag": "ABX9TyM8Eb1GDaJGDXClZKuO6nL7",
      "include_colab_link": true
    },
    "kernelspec": {
      "name": "python3",
      "display_name": "Python 3"
    },
    "language_info": {
      "name": "python"
    },
    "accelerator": "GPU"
  },
  "cells": [
    {
      "cell_type": "markdown",
      "metadata": {
        "id": "view-in-github",
        "colab_type": "text"
      },
      "source": [
        "<a href=\"https://colab.research.google.com/github/kty1004/Celebrity-solo-shot-collector/blob/main/Celebrity_solo_shot_collector_for_Colab.ipynb\" target=\"_parent\"><img src=\"https://colab.research.google.com/assets/colab-badge.svg\" alt=\"Open In Colab\"/></a>"
      ]
    },
    {
      "cell_type": "markdown",
      "source": [
        "# Colab users를 위한 Celebrity-solo-shot-collector"
      ],
      "metadata": {
        "id": "LwmigdMe1ytl"
      }
    },
    {
      "cell_type": "markdown",
      "source": [
        "런타임 유형을 GPU 계열로 바꿔야 합니다!\n",
        "\n",
        ">상단의 런타임 -> 런타임 유형 변경 -> GPU\n",
        "\n"
      ],
      "metadata": {
        "id": "dJboH_xXnFwQ"
      }
    },
    {
      "cell_type": "code",
      "source": [
        "!git clone https://github.com/kty1004/Celebrity-solo-shot-collector.git"
      ],
      "metadata": {
        "id": "vvzS79TZ3881"
      },
      "execution_count": null,
      "outputs": []
    },
    {
      "cell_type": "code",
      "source": [
        "!pip3 install face_recognition"
      ],
      "metadata": {
        "id": "RF1EB0y-kaxN"
      },
      "execution_count": null,
      "outputs": []
    },
    {
      "cell_type": "code",
      "source": [
        "import os\n",
        "os.chdir('/content/Celebrity-solo-shot-collector')"
      ],
      "metadata": {
        "id": "j2GCtAYr6MH9"
      },
      "execution_count": null,
      "outputs": []
    },
    {
      "cell_type": "markdown",
      "source": [
        "## 찾을 연예인 이름 리스트"
      ],
      "metadata": {
        "id": "-M_54smx4H5y"
      }
    },
    {
      "cell_type": "markdown",
      "source": [
        "파일 -> Celebrity-solo-shot-collector -> celebrity_name.txt\n",
        "\n",
        "로 들어가서 한 줄에 이름 하나씩 입력하시면 됩니다."
      ],
      "metadata": {
        "id": "e9S6lgjz4YP4"
      }
    },
    {
      "cell_type": "code",
      "source": [
        "!cd '/content/Celebrity-solo-shot-collector'\n",
        "!ls"
      ],
      "metadata": {
        "id": "W5JvcHPT7zGk"
      },
      "execution_count": null,
      "outputs": []
    },
    {
      "cell_type": "code",
      "source": [
        "from main_for_colab import Celebrity_solo_shot_collector\n",
        "client_id='your_id'\n",
        "cleint_password='your_password'\n",
        "num_img_want_to_crawl=3\n",
        "\n",
        "if client_id=='your_id' or cleint_password=='your_password':\n",
        "  raise ValueError(\"네이버 api의 클라이언트 아이디와 비밀번호를 입력해야 합니다.\")\n",
        "else:\n",
        "  Celebrity_solo_shot_collector(client_id,cleint_password, num_img_want_to_crawl)"
      ],
      "metadata": {
        "id": "tYwfnvNo3EdY"
      },
      "execution_count": null,
      "outputs": []
    }
  ]
}