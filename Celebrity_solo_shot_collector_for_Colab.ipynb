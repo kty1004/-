{
  "cells": [
    {
      "cell_type": "markdown",
      "metadata": {
        "colab_type": "text",
        "id": "view-in-github"
      },
      "source": [
        "<a href=\"https://colab.research.google.com/github/kty1004/Celebrity-solo-shot-collector/blob/main/Celebrity_solo_shot_collector_for_Colab.ipynb\" target=\"_parent\"><img src=\"https://colab.research.google.com/assets/colab-badge.svg\" alt=\"Open In Colab\"/></a>"
      ]
    },
    {
      "cell_type": "markdown",
      "metadata": {
        "id": "LwmigdMe1ytl"
      },
      "source": [
        "# Colab users를 위한 Celebrity-solo-shot-collector"
      ]
    },
    {
      "cell_type": "markdown",
      "metadata": {
        "id": "dJboH_xXnFwQ"
      },
      "source": [
        "런타임 유형을 GPU 계열로 바꿔야 합니다!\n",
        "\n",
        ">상단의 런타임 -> 런타임 유형 변경 -> GPU\n",
        "\n"
      ]
    },
    {
      "cell_type": "code",
      "execution_count": null,
      "metadata": {
        "id": "vvzS79TZ3881"
      },
      "outputs": [],
      "source": [
        "!git clone https://github.com/kty1004/Celebrity-solo-shot-collector.git"
      ]
    },
    {
      "cell_type": "code",
      "execution_count": null,
      "metadata": {
        "id": "RF1EB0y-kaxN"
      },
      "outputs": [],
      "source": [
        "!pip3 install face_recognition"
      ]
    },
    {
      "cell_type": "code",
      "execution_count": null,
      "metadata": {
        "id": "j2GCtAYr6MH9"
      },
      "outputs": [],
      "source": [
        "import os\n",
        "os.chdir('/content/Celebrity-solo-shot-collector')"
      ]
    },
    {
      "cell_type": "markdown",
      "metadata": {
        "id": "-M_54smx4H5y"
      },
      "source": [
        "## 찾을 연예인 이름 리스트"
      ]
    },
    {
      "cell_type": "markdown",
      "metadata": {
        "id": "e9S6lgjz4YP4"
      },
      "source": [
        "파일 -> Celebrity-solo-shot-collector -> celebrity_name.txt\n",
        "\n",
        "로 들어가서 한 줄에 이름 하나씩 입력하시면 됩니다."
      ]
    },
    {
      "cell_type": "code",
      "execution_count": null,
      "metadata": {
        "id": "W5JvcHPT7zGk"
      },
      "outputs": [],
      "source": [
        "!cd '/content/Celebrity-solo-shot-collector'\n",
        "!ls"
      ]
    },
    {
      "cell_type": "markdown",
      "metadata": {},
      "source": [
        "네이버 개발자 api를 사용하기 때문에 api key와 api secret이 필요합니다. 자세한 사항은 [네이버 개발자 센터](https://developers.naver.com/main/)를 참고해주세요."
      ]
    },
    {
      "cell_type": "code",
      "execution_count": null,
      "metadata": {
        "id": "tYwfnvNo3EdY"
      },
      "outputs": [],
      "source": [
        "from main_for_colab import Celebrity_solo_shot_collector\n",
        "client_id='your_id'\n",
        "cleint_password='your_password'\n",
        "num_img_want_to_crawl=3 # 한 사람 당 찾을 사진의 수\n",
        "\n",
        "if client_id=='your_id' or cleint_password=='your_password':\n",
        "  raise ValueError(\"네이버 api의 클라이언트 아이디와 비밀번호를 입력해야 합니다.\")\n",
        "else:\n",
        "  Celebrity_solo_shot_collector(client_id,cleint_password, num_img_want_to_crawl)"
      ]
    }
  ],
  "metadata": {
    "accelerator": "GPU",
    "colab": {
      "authorship_tag": "ABX9TyM8Eb1GDaJGDXClZKuO6nL7",
      "gpuType": "T4",
      "include_colab_link": true,
      "mount_file_id": "19rnGQyRmGBbI_tRCzUN61z0g4WwdbSwM",
      "provenance": []
    },
    "kernelspec": {
      "display_name": "Python 3",
      "name": "python3"
    },
    "language_info": {
      "name": "python"
    }
  },
  "nbformat": 4,
  "nbformat_minor": 0
}
